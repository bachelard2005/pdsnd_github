{
 "cells": [
  {
   "cell_type": "markdown",
   "metadata": {},
   "source": [
    "### Explore Bike Share Data\n",
    "\n",
    "For this project, your goal is to ask and answer three questions about the available bikeshare data from Washington, Chicago, and New York.  This notebook can be submitted directly through the workspace when you are confident in your results.\n",
    "\n",
    "You will be graded against the project [Rubric](https://review.udacity.com/#!/rubrics/2508/view) by a mentor after you have submitted.  To get you started, you can use the template below, but feel free to be creative in your solutions!"
   ]
  },
  {
   "cell_type": "code",
   "execution_count": 1,
   "metadata": {},
   "outputs": [],
   "source": [
    "ny = read.csv('new_york_city.csv')\n",
    "wash = read.csv('washington.csv')\n",
    "chi = read.csv('chicago.csv')"
   ]
  },
  {
   "cell_type": "code",


   "execution_count": 20,


   "metadata": {},
   "outputs": [
    {
     "data": {
      "text/html": [
       "<ol class=list-inline>\n",
       "\t<li>54770</li>\n",
       "\t<li>9</li>\n",
       "</ol>\n"
      ],
      "text/latex": [
       "\\begin{enumerate*}\n",
       "\\item 54770\n",
       "\\item 9\n",
       "\\end{enumerate*}\n"
      ],
      "text/markdown": [
       "1. 54770\n",
       "2. 9\n",
       "\n",
       "\n"
      ],
      "text/plain": [
       "[1] 54770     9"
      ]
     },
     "metadata": {},
     "output_type": "display_data"
    }
   ],
   "source": [
    "dim(ny)"
   ]
  },
  {
   "cell_type": "code",

   "execution_count": 21,

   "metadata": {},
   "outputs": [
    {
     "data": {
      "text/html": [
       "<ol class=list-inline>\n",
       "\t<li>89051</li>\n",
       "\t<li>7</li>\n",
       "</ol>\n"
      ],
      "text/latex": [
       "\\begin{enumerate*}\n",
       "\\item 89051\n",
       "\\item 7\n",
       "\\end{enumerate*}\n"
      ],
      "text/markdown": [
       "1. 89051\n",
       "2. 7\n",
       "\n",
       "\n"
      ],
      "text/plain": [
       "[1] 89051     7"
      ]
     },
     "metadata": {},
     "output_type": "display_data"
    }
   ],
   "source": [
    "dim(wash)"
   ]
  },
  {
   "cell_type": "code",

   "execution_count": 22,


   "metadata": {},
   "outputs": [
    {
     "data": {
      "text/html": [
       "<ol class=list-inline>\n",
       "\t<li>8630</li>\n",
       "\t<li>10</li>\n",
       "</ol>\n"
      ],
      "text/latex": [
       "\\begin{enumerate*}\n",
       "\\item 8630\n",
       "\\item 10\n",
       "\\end{enumerate*}\n"
      ],
      "text/markdown": [
       "1. 8630\n",
       "2. 10\n",
       "\n",
       "\n"
      ],
      "text/plain": [
       "[1] 8630   10"
      ]
     },
     "metadata": {},
     "output_type": "display_data"
    }
   ],
   "source": [
    "dim(chi)\n",
    "#install.packages(\"tidyverse\")\n",
    "library(tidyverse) "
   ]
  },
  {
   "cell_type": "markdown",
   "metadata": {},
   "source": [
    "### Question 1\n",
    "\n",
    "\n",
    "**Your question 1 goes here.**"
   ]
  },
  {
   "cell_type": "code",

   "execution_count": 45,

   "metadata": {},
   "outputs": [
    {
     "name": "stderr",
     "output_type": "stream",
     "text": [
      "Warning message:\n",
      "\"package 'tidyverse' was built under R version 3.6.2\"-- Attaching packages --------------------------------------- tidyverse 1.3.0 --\n",
      "v ggplot2 3.2.1     v purrr   0.3.3\n",
      "v tibble  2.1.3     v dplyr   0.8.3\n",
      "v tidyr   1.0.0     v stringr 1.4.0\n",
      "v readr   1.3.1     v forcats 0.4.0\n",
      "Warning message:\n",
      "\"package 'ggplot2' was built under R version 3.6.2\"Warning message:\n",
      "\"package 'tibble' was built under R version 3.6.2\"Warning message:\n",
      "\"package 'tidyr' was built under R version 3.6.2\"Warning message:\n",
      "\"package 'readr' was built under R version 3.6.2\"Warning message:\n",
      "\"package 'purrr' was built under R version 3.6.2\"Warning message:\n",
      "\"package 'dplyr' was built under R version 3.6.2\"Warning message:\n",
      "\"package 'stringr' was built under R version 3.6.2\"Warning message:\n",
      "\"package 'forcats' was built under R version 3.6.2\"-- Conflicts ------------------------------------------ tidyverse_conflicts() --\n",
      "x dplyr::filter() masks stats::filter()\n",
      "x dplyr::lag()    masks stats::lag()\n"
     ]
    },
    {
     "data": {
      "text/html": [
       "'C:/Users/LMVZ3480/Desktop/Udacity/udacity-git-course/pdsnd_github'"
      ],
      "text/latex": [
       "'C:/Users/LMVZ3480/Desktop/Udacity/udacity-git-course/pdsnd\\_github'"
      ],
      "text/markdown": [
       "'C:/Users/LMVZ3480/Desktop/Udacity/udacity-git-course/pdsnd_github'"
      ],
      "text/plain": [
       "[1] \"C:/Users/LMVZ3480/Desktop/Udacity/udacity-git-course/pdsnd_github\""
      ]
     },
     "metadata": {},
     "output_type": "display_data"
    },
    {
     "name": "stderr",
     "output_type": "stream",
     "text": [
      "Warning message:\n",
      "\"Missing column names filled in: 'X1' [1]\"Parsed with column specification:\n",
      "cols(\n",
      "  X1 = col_double(),\n",
      "  `Start Time` = col_datetime(format = \"\"),\n",
      "  `End Time` = col_datetime(format = \"\"),\n",
      "  `Trip Duration` = col_double(),\n",
      "  `Start Station` = col_character(),\n",
      "  `End Station` = col_character(),\n",
      "  `User Type` = col_character(),\n",
      "  Gender = col_character(),\n",
      "  `Birth Year` = col_double()\n",
      ")\n",
      "Warning message:\n",
      "\"1 parsing failure.\n",
      " row col  expected    actual          file\n",
      "8630  -- 9 columns 5 columns 'chicago.csv'\n",
      "\"Warning message:\n",
      "\"Missing column names filled in: 'X1' [1]\"Parsed with column specification:\n",
      "cols(\n",
      "  X1 = col_double(),\n",
      "  `Start Time` = col_datetime(format = \"\"),\n",
      "  `End Time` = col_datetime(format = \"\"),\n",
      "  `Trip Duration` = col_double(),\n",
      "  `Start Station` = col_character(),\n",
      "  `End Station` = col_character(),\n",
      "  `User Type` = col_character(),\n",
      "  Gender = col_character(),\n",
      "  `Birth Year` = col_double()\n",
      ")\n",
      "Warning message:\n",
      "\"2 parsing failures.\n",
      "  row      col   expected    actual                file\n",
      "54770 End Time date like  201       'new_york_city.csv'\n",
      "54770 NA       9 columns  3 columns 'new_york_city.csv'\n",
      "\"Warning message:\n",
      "\"Missing column names filled in: 'X1' [1]\"Parsed with column specification:\n",
      "cols(\n",
      "  X1 = col_double(),\n",
      "  `Start Time` = col_datetime(format = \"\"),\n",
      "  `End Time` = col_datetime(format = \"\"),\n",
      "  `Trip Duration` = col_double(),\n",
      "  `Start Station` = col_character(),\n",
      "  `End Station` = col_character(),\n",
      "  `User Type` = col_character()\n",
      ")\n",
      "Warning message:\n",
      "\"1 parsing failure.\n",
      "  row col  expected    actual             file\n",
      "89051  -- 7 columns 1 columns 'washington.csv'\n",
      "\""
     ]
    }
   ],
   "source": [
    "# Your solution code goes here\n",
    "### Question 1, most common month, day and hour\n",
    "library(tidyverse) \n",
    "getwd()\n",
    "#### the following scripts read the 3 set of data (Chicago, NewYork and Washington)\n",
    "chi <- read_csv(\"chicago.csv\")\n",
    "chi <- chi %>%  mutate(City = \"Chicago\")\n",
    "ny <- read_csv(\"new_york_city.csv\")\n",
    "ny <- ny %>%  mutate(City = \"New_York\")\n",
    "wash <- read_csv(\"washington.csv\")\n",
    "wash <- wash %>%  mutate(City = \"Washington\")\n",
    "### Concat the 3 dataset in one dataset\n",
    "pd <- bind_rows(chi,ny,wash)\n",
    "### Create a colum for months, days and hours of \"Start Time\n",
    "pd <- mutate(pd, month = format(`Start Time`,\"%B\"))\n",
    "pd <- mutate(pd, day = format(`Start Time`,\"%A\"))\n",
    "pd <- mutate(pd, hour = format(`Start Time`,\"%H\"))\n",
    "## The most common month, day and hour (Question 1)\n",
    "pf1 <- pd %>% group_by(month) %>% summarise(nb=n()) %>% arrange(desc(nb))\n",
    "pf2 <- pd %>% group_by(day) %>% summarise(nb=n()) %>% arrange(desc(nb))\n",
    "pf3 <- pd %>% group_by(hour) %>% summarise(nb=n()) %>% arrange(desc(nb))\n"
   ]
  },
  {
   "cell_type": "code",
HEAD
   "execution_count": 15,
c2a7e27
   "execution_count": 49,
 refactoring
   "metadata": {},
   "outputs": [
    {
     "data": {
      "image/png": "iVBORw0KGgoAAAANSUhEUgAAA0gAAANICAMAAADKOT/pAAAAPFBMVEUAAAAAAIszMzNNTU1o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\nqlCIRFEVCpEoqkL9f715VbqU/wqPAAAAAElFTkSuQmCC",
      "text/plain": [
       "plot without title"
      ]
     },
     "metadata": {},
     "output_type": "display_data"
    }
   ],
   "source": [
    "### Bar plot for the frequencies of travel by months\n",
    "ggplot(pd) + geom_bar(aes(x = month), color= \"red\", fill=\"darkblue\") +\n",
    "    ggtitle(\" Frequencies of travel by month\") + labs(x=\"months of travel\", y= \"frequencies of travel\")"
   ]
  },
  {
   "cell_type": "code",
   "execution_count": 1,
   "metadata": {},
   "outputs": [],
   "source": [
    "# Juin is the most common month"
   ]
  },
  {
   "cell_type": "markdown",
   "metadata": {},
   "source": [
    "**Summary of your question 1 results goes here.**"
   ]
  },
  {
   "cell_type": "markdown",
   "metadata": {},
   "source": [
    "### Question 2\n",
    "\n",
    "**Your question 2 goes here.**"
   ]
  },
  {
   "cell_type": "code",
   "execution_count": 4,
   "metadata": {},
   "outputs": [],
   "source": [
    "# Your solution code goes here\n",
    "## Question 2\n",
    "### The most common start station\n",
    "pf4 <- pd %>% group_by(`Start Station`) %>% summarise(nb=n()) %>% arrange(desc(nb))\n",
    "### The most common end station\n",
    "pf5 <- pd %>% group_by(`End Station`) %>% summarise(nb=n()) %>% arrange(desc(nb))\n",
    "### The most common trip\n",
    "pf6 <- pd %>% group_by(`Start Station`,`End Station`) %>% \n",
    "  summarise(nb=n()) %>% arrange(desc(nb))\n",
    "\n"
   ]
  },
  {
   "cell_type": "code",
   "execution_count": 5,
   "metadata": {},
   "outputs": [
    {
     "data": {
      "image/png": "iVBORw0KGgoAAAANSUhEUgAAA0gAAANICAMAAADKOT/pAAAAOVBMVEUAAAAA/wAzMzNNTU1o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\nICFkIEBCyECAhJCB/geABS8512461gAAAABJRU5ErkJggg==",
      "text/plain": [
       "plot without title"
      ]
     },
     "metadata": {},
     "output_type": "display_data"
    }
   ],
   "source": [
    "### line plot for trip duration per month for Damen Ave Station\n",
    "pd %>% filter(`Start Station`==\"Damen Ave & Division St\") %>% ggplot() + geom_line(aes(x= `Start Time`, y =`Trip Duration`), color = \"green\") +\n",
    "   ggtitle(\" Trip duration per month for Damen Ave & Division St\") + labs(x=\"months \", y= \"trip duration in seconds\")\n",
    "\n"
   ]
  },
  {
   "cell_type": "code",
   "execution_count": null,
   "metadata": {},
   "outputs": [],
   "source": []
  },
  {
   "cell_type": "markdown",
   "metadata": {},
   "source": [
    "**Summary of your question 2 results goes here.**"
   ]
  },
  {
   "cell_type": "markdown",
   "metadata": {},
   "source": [
    "### Question 3\n",
    "\n",
    "**Your question 3 goes here.**"
   ]
  },
  {
   "cell_type": "code",
   "execution_count": 6,
   "metadata": {},
   "outputs": [],
   "source": [
    "# Your solution code goes here\n",
    "# Question 3\n",
    "### Number of each User type\n",
    "pf7 <- pd %>% group_by(`User Type`) %>% summarise(User_type = n())\n",
    "### Number of users by gender in New-York\n",
    "pf8 <- pd %>% group_by(Gender) %>% filter(City=='New_York') %>%  summarise(Nb_Gender = n())\n",
    "### earliest common year of birth\n",
    "pf9 <- pd %>% arrange(`Birth Year`)\n",
    "\n",
    "\n"
   ]
  },
  {
   "cell_type": "code",
   "execution_count": 7,
   "metadata": {},
   "outputs": [
    {
     "data": {
      "image/png": "iVBORw0KGgoAAAANSUhEUgAAA0gAAANICAMAAADKOT/pAAAANlBMVEUAAAAzMzNNTU1oaGh8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\niTRAkUQaoEgiDfg/ZKONGsszgvsAAAAASUVORK5CYII=",
      "text/plain": [
       "plot without title"
      ]
     },
     "metadata": {},
     "output_type": "display_data"
    }
   ],
   "source": [
    "### Boxplot of gender by birth year for Chicago\n",
    "pd %>% filter(City == \"Chicago\" & !is.na(Gender)) %>% ggplot() + geom_boxplot(aes(x=Gender, y= `Birth Year`)) + ggtitle(\" Box plot of Gender by birth year for Chicago\") + labs(x=\"Gender \", y= \"Birth Year\")"
   ]
  },
  {
   "cell_type": "code",
   "execution_count": 9,
   "metadata": {},
   "outputs": [],
   "source": [
    "### Number of users by gender in Chicago\n",
    "pf10 <- pd %>% group_by(Gender) %>% filter(City=='Chicago') %>%  summarise(Nb_Gender = n())\n",
    "pf11 <- arrange(pf10)"
   ]
  },
  {
   "cell_type": "markdown",
   "metadata": {},
   "source": [
    "**Summary of your question 3 results goes here.**"
   ]
  },
  {
   "cell_type": "markdown",
   "metadata": {},
   "source": [
    "\n",
    "## Finishing Up\n",
    "\n",
    "> Congratulations!  You have reached the end of the Explore Bikeshare Data Project. You should be very proud of all you have accomplished!\n",
    "\n",
    "> **Tip**: Once you are satisfied with your work here, check over your report to make sure that it is satisfies all the areas of the [rubric](https://review.udacity.com/#!/rubrics/2508/view). \n",
    "\n",
    "\n",
    "## Directions to Submit\n",
    "\n",
    "> Before you submit your project, you need to create a .html or .pdf version of this notebook in the workspace here. To do that, run the code cell below. If it worked correctly, you should get a return code of 0, and you should see the generated .html file in the workspace directory (click on the orange Jupyter icon in the upper left).\n",
    "\n",
    "> Alternatively, you can download this report as .html via the **File** > **Download as** submenu, and then manually upload it into the workspace directory by clicking on the orange Jupyter icon in the upper left, then using the Upload button.\n",
    "\n",
    "> Once you've done this, you can submit your project by clicking on the \"Submit Project\" button in the lower right here. This will create and submit a zip file with this .ipynb doc and the .html or .pdf version you created. Congratulations!"
   ]
  },
  {
   "cell_type": "code",
   "execution_count": null,
   "metadata": {},
   "outputs": [],
   "source": [
    "system('python -m nbconvert Explore_bikeshare_data.ipynb')"
   ]
  }
 ],
 "metadata": {
  "kernelspec": {
   "display_name": "R",
   "language": "R",
   "name": "ir"
  },
  "language_info": {
   "codemirror_mode": "r",
   "file_extension": ".r",
   "mimetype": "text/x-r-source",
   "name": "R",
   "pygments_lexer": "r",
   "version": "3.6.1"
  }
 },
 "nbformat": 4,
 "nbformat_minor": 2
}
